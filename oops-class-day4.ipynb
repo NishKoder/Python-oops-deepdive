{
 "cells": [
  {
   "attachments": {},
   "cell_type": "markdown",
   "metadata": {},
   "source": [
    "# Computing Properties and Read-Only Properties"
   ]
  },
  {
   "cell_type": "code",
   "execution_count": 1,
   "metadata": {},
   "outputs": [],
   "source": [
    "from math import pi\n",
    "\n",
    "class Circle:\n",
    "    def __init__(self, radius):\n",
    "        self.radius = radius\n",
    "    \n",
    "    def area(self):\n",
    "        print(\"Calculating area\")\n",
    "        return pi * (self.radius ** 2)\n",
    "    \n",
    "c = Circle(1)"
   ]
  },
  {
   "cell_type": "code",
   "execution_count": 2,
   "metadata": {},
   "outputs": [
    {
     "name": "stdout",
     "output_type": "stream",
     "text": [
      "Calculating area\n"
     ]
    },
    {
     "data": {
      "text/plain": [
       "3.141592653589793"
      ]
     },
     "execution_count": 2,
     "metadata": {},
     "output_type": "execute_result"
    }
   ],
   "source": [
    "c.area()"
   ]
  },
  {
   "cell_type": "code",
   "execution_count": 12,
   "metadata": {},
   "outputs": [
    {
     "name": "stdout",
     "output_type": "stream",
     "text": [
      "Calculating area\n"
     ]
    },
    {
     "data": {
      "text/plain": [
       "3.141592653589793"
      ]
     },
     "execution_count": 12,
     "metadata": {},
     "output_type": "execute_result"
    }
   ],
   "source": [
    "from math import pi\n",
    "\n",
    "class Circle:\n",
    "    def __init__(self, radius):\n",
    "        self._radius = radius\n",
    "        self._area = None\n",
    "\n",
    "    @property\n",
    "    def radius(self):\n",
    "        return self._radius\n",
    "\n",
    "    @radius.setter\n",
    "    def radius(self, radius):\n",
    "        self._area = None\n",
    "        self._radius = radius\n",
    "\n",
    "    @property\n",
    "    def area(self):\n",
    "        if self._area is None:\n",
    "            print(\"Calculating area\")\n",
    "            self._area = pi * (self.radius ** 2)\n",
    "        return self._area\n",
    "    \n",
    "c = Circle(1)\n",
    "c.area"
   ]
  },
  {
   "cell_type": "code",
   "execution_count": 13,
   "metadata": {},
   "outputs": [
    {
     "data": {
      "text/plain": [
       "3.141592653589793"
      ]
     },
     "execution_count": 13,
     "metadata": {},
     "output_type": "execute_result"
    }
   ],
   "source": [
    "c.area"
   ]
  },
  {
   "attachments": {},
   "cell_type": "markdown",
   "metadata": {},
   "source": [
    "### Example"
   ]
  },
  {
   "cell_type": "code",
   "execution_count": 16,
   "metadata": {},
   "outputs": [
    {
     "name": "stdout",
     "output_type": "stream",
     "text": [
      "https://www.google.com\tsize=16_461\telapsed=0.50secs\n",
      "https://www.yahoo.com\tsize=870_156\telapsed=0.96secs\n",
      "https://www.python.org\tsize=50_620\telapsed=0.04secs\n"
     ]
    }
   ],
   "source": [
    "import urllib\n",
    "from time import perf_counter\n",
    "\n",
    "class WebPage:\n",
    "    def __init__(self, url):\n",
    "        self._url = url\n",
    "        self._page = None\n",
    "        self._load_time_secs = None\n",
    "        self._page_size = None\n",
    "    \n",
    "    @property\n",
    "    def url(self):\n",
    "        return self._url\n",
    "    \n",
    "    @url.setter\n",
    "    def url(self, url):\n",
    "        self._url = url\n",
    "        self._page = None\n",
    "    \n",
    "    @property\n",
    "    def page(self):\n",
    "        if self._page is None:\n",
    "            self.download_page()\n",
    "        return self._page\n",
    "    \n",
    "    @property\n",
    "    def page_size(self):\n",
    "        if self._page is None:\n",
    "            self.download_page()\n",
    "        return self._page_size\n",
    "    \n",
    "    @property\n",
    "    def time_elapsed(self):\n",
    "        if self._page is None:\n",
    "            self.download_page()\n",
    "        return self._load_time_secs\n",
    "    \n",
    "    def download_page(self):\n",
    "        self._page_size = None\n",
    "        self._load_time_secs = None\n",
    "        start_time = perf_counter()\n",
    "        with urllib.request.urlopen(self._url) as response:\n",
    "            self._page = response.read()\n",
    "        end_time = perf_counter()\n",
    "        self._load_time_secs = end_time - start_time\n",
    "        self._page_size = len(self._page)\n",
    "\n",
    "urls = [\n",
    "        'https://www.google.com',\n",
    "        \"https://www.yahoo.com\",\n",
    "        \"https://www.python.org\",\n",
    "        ]\n",
    "for url in urls:\n",
    "    page = WebPage(url)\n",
    "    print(f'{url}\\tsize={format(page.page_size,\"_\")}\\telapsed={page.time_elapsed:0.2f}secs')\n"
   ]
  },
  {
   "cell_type": "markdown",
   "metadata": {},
   "source": [
    "# Deleting Properties"
   ]
  },
  {
   "cell_type": "code",
   "execution_count": 18,
   "metadata": {},
   "outputs": [
    {
     "name": "stdout",
     "output_type": "stream",
     "text": [
      "Nishant\n"
     ]
    },
    {
     "ename": "AttributeError",
     "evalue": "'Person' object has no attribute '_name'",
     "output_type": "error",
     "traceback": [
      "\u001b[0;31m---------------------------------------------------------------------------\u001b[0m",
      "\u001b[0;31mAttributeError\u001b[0m                            Traceback (most recent call last)",
      "Cell \u001b[0;32mIn[18], line 19\u001b[0m\n\u001b[1;32m     17\u001b[0m \u001b[39mprint\u001b[39m(p\u001b[39m.\u001b[39mname)\n\u001b[1;32m     18\u001b[0m \u001b[39mdelattr\u001b[39m(p,\u001b[39m\"\u001b[39m\u001b[39mname\u001b[39m\u001b[39m\"\u001b[39m)\n\u001b[0;32m---> 19\u001b[0m p\u001b[39m.\u001b[39;49mname\n",
      "Cell \u001b[0;32mIn[18], line 6\u001b[0m, in \u001b[0;36mPerson.get_name\u001b[0;34m(self)\u001b[0m\n\u001b[1;32m      5\u001b[0m \u001b[39mdef\u001b[39;00m \u001b[39mget_name\u001b[39m(\u001b[39mself\u001b[39m):\n\u001b[0;32m----> 6\u001b[0m     \u001b[39mreturn\u001b[39;00m \u001b[39mself\u001b[39;49m\u001b[39m.\u001b[39;49m_name\n",
      "\u001b[0;31mAttributeError\u001b[0m: 'Person' object has no attribute '_name'"
     ]
    }
   ],
   "source": [
    "class Person:\n",
    "    def __init__(self,name):\n",
    "        self._name = name\n",
    "    \n",
    "    def get_name(self):\n",
    "        return self._name\n",
    "    \n",
    "    def set_name(self,name):\n",
    "        self._name = name\n",
    "    \n",
    "    def del_name(self):\n",
    "        del self._name\n",
    "    \n",
    "    name = property(fget=get_name,fset=set_name,fdel=del_name)\n",
    "\n",
    "p = Person('Nishant')\n",
    "print(p.name)\n",
    "delattr(p,\"name\")\n",
    "p.name"
   ]
  },
  {
   "cell_type": "code",
   "execution_count": 20,
   "metadata": {},
   "outputs": [
    {
     "name": "stdout",
     "output_type": "stream",
     "text": [
      "Nishant\n"
     ]
    },
    {
     "ename": "AttributeError",
     "evalue": "'Person' object has no attribute '_name'",
     "output_type": "error",
     "traceback": [
      "\u001b[0;31m---------------------------------------------------------------------------\u001b[0m",
      "\u001b[0;31mAttributeError\u001b[0m                            Traceback (most recent call last)",
      "Cell \u001b[0;32mIn[20], line 17\u001b[0m\n\u001b[1;32m     15\u001b[0m \u001b[39mprint\u001b[39m(p\u001b[39m.\u001b[39mname)\n\u001b[1;32m     16\u001b[0m \u001b[39mdelattr\u001b[39m(p,\u001b[39m\"\u001b[39m\u001b[39mname\u001b[39m\u001b[39m\"\u001b[39m)\n\u001b[0;32m---> 17\u001b[0m p\u001b[39m.\u001b[39;49mname\n",
      "Cell \u001b[0;32mIn[20], line 6\u001b[0m, in \u001b[0;36mPerson.name\u001b[0;34m(self)\u001b[0m\n\u001b[1;32m      4\u001b[0m \u001b[39m@property\u001b[39m\n\u001b[1;32m      5\u001b[0m \u001b[39mdef\u001b[39;00m \u001b[39mname\u001b[39m(\u001b[39mself\u001b[39m):\n\u001b[0;32m----> 6\u001b[0m     \u001b[39mreturn\u001b[39;00m \u001b[39mself\u001b[39;49m\u001b[39m.\u001b[39;49m_name\n",
      "\u001b[0;31mAttributeError\u001b[0m: 'Person' object has no attribute '_name'"
     ]
    }
   ],
   "source": [
    "class Person:\n",
    "    def __init__(self,name):\n",
    "        self._name = name\n",
    "    @property\n",
    "    def name(self):\n",
    "        return self._name\n",
    "    @name.setter\n",
    "    def name(self,name):\n",
    "        self._name = name\n",
    "    @name.deleter\n",
    "    def name(self):\n",
    "        del self._name\n",
    "    \n",
    "p = Person('Nishant')\n",
    "print(p.name)\n",
    "delattr(p,\"name\")\n",
    "p.name"
   ]
  },
  {
   "cell_type": "markdown",
   "metadata": {},
   "source": [
    "# Class and Static Methods on Class"
   ]
  },
  {
   "cell_type": "code",
   "execution_count": 22,
   "metadata": {},
   "outputs": [
    {
     "name": "stdout",
     "output_type": "stream",
     "text": [
      "Hello, with argument=default\n",
      "Hello, with argument=<__main__.Person object at 0x7fbe1b7523d0>\n"
     ]
    }
   ],
   "source": [
    "class Person:\n",
    "    def hello(arg='default'):\n",
    "        print(f'Hello, with argument={arg}')\n",
    "\n",
    "\n",
    "if __name__ == '__main__':\n",
    "    Person.hello()\n",
    "    p = Person()\n",
    "    p.hello()"
   ]
  },
  {
   "cell_type": "code",
   "execution_count": 33,
   "metadata": {},
   "outputs": [
    {
     "name": "stdout",
     "output_type": "stream",
     "text": [
      "Hello, World!\n",
      "hello instance <__main__.Person object at 0x7fbe1aec8250>\n",
      "hello class <class '__main__.Person'>\n",
      "hello class <class '__main__.Person'>\n",
      "hello static\n",
      "hello static\n"
     ]
    }
   ],
   "source": [
    "class Person:\n",
    "    def hello():\n",
    "        print(\"Hello, World!\")\n",
    "    def instance_hello(args):\n",
    "        print(f\"hello instance {args}\")\n",
    "    @classmethod\n",
    "    def class_hello(args):\n",
    "        print(f\"hello class {args}\")\n",
    "    @staticmethod\n",
    "    def static_hello():\n",
    "        print(f\"hello static\")\n",
    "\n",
    "p = Person()\n",
    "Person.hello()\n",
    "# p.hello() # TypeError: hello() takes 0 positional arguments but 1 was given\n",
    "p.instance_hello() # hello instance <__main__.Person object at 0x7fbe1b752c70>\n",
    "p.class_hello() # hello class <class '__main__.Person'>\n",
    "Person.class_hello() # hello class <class '__main__.Person'>\n",
    "Person.class_hello # <bound method Person.class_hello of <class '__main__.Person'>>\n",
    "Person.static_hello() # hello static\n",
    "p.static_hello()\n"
   ]
  },
  {
   "cell_type": "code",
   "execution_count": 25,
   "metadata": {},
   "outputs": [
    {
     "name": "stdout",
     "output_type": "stream",
     "text": [
      "hello instance <__main__.Person object at 0x7fbe1a66fb50>\n"
     ]
    }
   ],
   "source": [
    "p.instance_hello()"
   ]
  },
  {
   "cell_type": "code",
   "execution_count": null,
   "metadata": {},
   "outputs": [],
   "source": []
  }
 ],
 "metadata": {
  "kernelspec": {
   "display_name": "Python 3",
   "language": "python",
   "name": "python3"
  },
  "language_info": {
   "codemirror_mode": {
    "name": "ipython",
    "version": 3
   },
   "file_extension": ".py",
   "mimetype": "text/x-python",
   "name": "python",
   "nbconvert_exporter": "python",
   "pygments_lexer": "ipython3",
   "version": "3.8.16"
  },
  "orig_nbformat": 4
 },
 "nbformat": 4,
 "nbformat_minor": 2
}
