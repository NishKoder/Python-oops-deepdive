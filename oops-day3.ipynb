{
 "cells": [
  {
   "cell_type": "markdown",
   "metadata": {},
   "source": [
    "# Properties"
   ]
  },
  {
   "cell_type": "code",
   "execution_count": 9,
   "metadata": {},
   "outputs": [
    {
     "name": "stdout",
     "output_type": "stream",
     "text": [
      "Is not a str\n"
     ]
    }
   ],
   "source": [
    "class Person:\n",
    "    def __init__(self, name):\n",
    "        self.set_name(name)\n",
    "    def get_name(self):\n",
    "        return self._name\n",
    "    def set_name(self, name):\n",
    "        if isinstance(name, str) and len(name.strip()) > 0:\n",
    "            self._name = name\n",
    "        else:\n",
    "            raise ValueError(\"Is not a str\")\n",
    "\n",
    "try:\n",
    "    p = Person(123)\n",
    "except ValueError as e:\n",
    "    print(e)"
   ]
  },
  {
   "cell_type": "code",
   "execution_count": 12,
   "metadata": {},
   "outputs": [
    {
     "name": "stdout",
     "output_type": "stream",
     "text": [
      "Getter called\n"
     ]
    },
    {
     "data": {
      "text/plain": [
       "'Nick'"
      ]
     },
     "execution_count": 12,
     "metadata": {},
     "output_type": "execute_result"
    }
   ],
   "source": [
    "class Person:\n",
    "    def __init__(self, name):\n",
    "        self._name = name\n",
    "    def get_name(self):\n",
    "        print(\"Getter called\")\n",
    "        return self._name\n",
    "    def set_name(self, name):\n",
    "        if isinstance(name, str) and len(name.strip()) > 0:\n",
    "            self._name = name\n",
    "        else:\n",
    "            raise ValueError(\"Is not a str\")\n",
    "    name = property(fget=get_name, fset=set_name)\n",
    "\n",
    "try:\n",
    "    p = Person(\"Nish\")\n",
    "except ValueError as e:\n",
    "    print(e)\n",
    "p.name = \"Nick\"\n",
    "p.name"
   ]
  },
  {
   "cell_type": "code",
   "execution_count": 13,
   "metadata": {},
   "outputs": [
    {
     "data": {
      "text/plain": [
       "{'_name': 'Nick'}"
      ]
     },
     "execution_count": 13,
     "metadata": {},
     "output_type": "execute_result"
    }
   ],
   "source": [
    "p.__dict__"
   ]
  },
  {
   "cell_type": "code",
   "execution_count": 14,
   "metadata": {},
   "outputs": [
    {
     "data": {
      "text/plain": [
       "mappingproxy({'__module__': '__main__',\n",
       "              '__init__': <function __main__.Person.__init__(self, name)>,\n",
       "              'get_name': <function __main__.Person.get_name(self)>,\n",
       "              'set_name': <function __main__.Person.set_name(self, name)>,\n",
       "              'name': <property at 0x7fc6ea051c20>,\n",
       "              '__dict__': <attribute '__dict__' of 'Person' objects>,\n",
       "              '__weakref__': <attribute '__weakref__' of 'Person' objects>,\n",
       "              '__doc__': None})"
      ]
     },
     "execution_count": 14,
     "metadata": {},
     "output_type": "execute_result"
    }
   ],
   "source": [
    "Person.__dict__"
   ]
  },
  {
   "cell_type": "code",
   "execution_count": 15,
   "metadata": {},
   "outputs": [],
   "source": [
    "p.__dict__['name'] = 'Test'"
   ]
  },
  {
   "cell_type": "code",
   "execution_count": 16,
   "metadata": {},
   "outputs": [
    {
     "data": {
      "text/plain": [
       "{'_name': 'Nick', 'name': 'Test'}"
      ]
     },
     "execution_count": 16,
     "metadata": {},
     "output_type": "execute_result"
    }
   ],
   "source": [
    "p.__dict__"
   ]
  },
  {
   "cell_type": "code",
   "execution_count": 17,
   "metadata": {},
   "outputs": [
    {
     "name": "stdout",
     "output_type": "stream",
     "text": [
      "Getter called\n"
     ]
    },
    {
     "data": {
      "text/plain": [
       "'Nick'"
      ]
     },
     "execution_count": 17,
     "metadata": {},
     "output_type": "execute_result"
    }
   ],
   "source": [
    "p.name"
   ]
  },
  {
   "attachments": {},
   "cell_type": "markdown",
   "metadata": {},
   "source": [
    "# Property Decorators"
   ]
  },
  {
   "cell_type": "code",
   "execution_count": 20,
   "metadata": {},
   "outputs": [
    {
     "data": {
      "text/plain": [
       "(mappingproxy({'__getattribute__': <slot wrapper '__getattribute__' of 'property' objects>,\n",
       "               '__get__': <slot wrapper '__get__' of 'property' objects>,\n",
       "               '__set__': <slot wrapper '__set__' of 'property' objects>,\n",
       "               '__delete__': <slot wrapper '__delete__' of 'property' objects>,\n",
       "               '__init__': <slot wrapper '__init__' of 'property' objects>,\n",
       "               '__new__': <function property.__new__(*args, **kwargs)>,\n",
       "               'getter': <method 'getter' of 'property' objects>,\n",
       "               'setter': <method 'setter' of 'property' objects>,\n",
       "               'deleter': <method 'deleter' of 'property' objects>,\n",
       "               'fget': <member 'fget' of 'property' objects>,\n",
       "               'fset': <member 'fset' of 'property' objects>,\n",
       "               'fdel': <member 'fdel' of 'property' objects>,\n",
       "               '__doc__': <member '__doc__' of 'property' objects>,\n",
       "               '__isabstractmethod__': <attribute '__isabstractmethod__' of 'property' objects>}),\n",
       " <function __main__.<lambda>(self)>)"
      ]
     },
     "execution_count": 20,
     "metadata": {},
     "output_type": "execute_result"
    }
   ],
   "source": [
    "p = property(fget=lambda self:print(\"Getter called.....\"))\n",
    "property.__dict__, p.fget"
   ]
  },
  {
   "cell_type": "code",
   "execution_count": 21,
   "metadata": {},
   "outputs": [
    {
     "name": "stdout",
     "output_type": "stream",
     "text": [
      "Original function called\n"
     ]
    },
    {
     "data": {
      "text/plain": [
       "3"
      ]
     },
     "execution_count": 21,
     "metadata": {},
     "output_type": "execute_result"
    }
   ],
   "source": [
    "def my_decorated_function(fn):\n",
    "    print(\"decorted function\")\n",
    "    def inner(*args, **kwargs):\n",
    "        print(\"Inner function Called\")\n",
    "        return fn(*args, **kwargs)\n",
    "    return inner\n",
    "\n",
    "def undecorated_function(a,b):\n",
    "    print(\"Original function called\")\n",
    "    return a+b\n",
    "\n",
    "undecorated_function(1,2)"
   ]
  },
  {
   "cell_type": "code",
   "execution_count": 22,
   "metadata": {},
   "outputs": [
    {
     "name": "stdout",
     "output_type": "stream",
     "text": [
      "decorted function\n"
     ]
    }
   ],
   "source": [
    "decorated_fn = my_decorated_function(undecorated_function)"
   ]
  },
  {
   "cell_type": "code",
   "execution_count": 23,
   "metadata": {},
   "outputs": [
    {
     "name": "stdout",
     "output_type": "stream",
     "text": [
      "Inner function Called\n",
      "Original function called\n"
     ]
    },
    {
     "data": {
      "text/plain": [
       "3"
      ]
     },
     "execution_count": 23,
     "metadata": {},
     "output_type": "execute_result"
    }
   ],
   "source": [
    "decorated_fn(1,2)"
   ]
  },
  {
   "cell_type": "code",
   "execution_count": 26,
   "metadata": {},
   "outputs": [
    {
     "name": "stdout",
     "output_type": "stream",
     "text": [
      "decorted function\n"
     ]
    }
   ],
   "source": [
    "@my_decorated_function\n",
    "def mydecor(a,b):\n",
    "    print(\"original function called\")\n",
    "    return a+b"
   ]
  },
  {
   "cell_type": "code",
   "execution_count": 27,
   "metadata": {},
   "outputs": [
    {
     "name": "stdout",
     "output_type": "stream",
     "text": [
      "Inner function Called\n",
      "original function called\n"
     ]
    },
    {
     "data": {
      "text/plain": [
       "3"
      ]
     },
     "execution_count": 27,
     "metadata": {},
     "output_type": "execute_result"
    }
   ],
   "source": [
    "mydecor(1,2)"
   ]
  },
  {
   "cell_type": "code",
   "execution_count": 28,
   "metadata": {},
   "outputs": [
    {
     "name": "stdout",
     "output_type": "stream",
     "text": [
      "Name\n"
     ]
    }
   ],
   "source": [
    "class Person:\n",
    "    def __init__(self, name):\n",
    "        self._name = name\n",
    "    \n",
    "    @property\n",
    "    def name(self):\n",
    "        return self._name\n",
    "\n",
    "p = Person(\"Name\")\n",
    "print(p.name)"
   ]
  },
  {
   "cell_type": "code",
   "execution_count": 38,
   "metadata": {},
   "outputs": [],
   "source": [
    "def get_prop(self):\n",
    "    return \"Getting Called\"\n",
    "\n",
    "def set_prop(self,value):\n",
    "    return \"Setter Called\"\n",
    "\n",
    "def del_prop(self):\n",
    "    return \"Delete Called\"\n",
    "\n",
    "p = property(get_prop)\n",
    "p = p.setter(set_prop)\n"
   ]
  },
  {
   "cell_type": "code",
   "execution_count": 39,
   "metadata": {},
   "outputs": [],
   "source": [
    "class Person:\n",
    "    name = p\n",
    "\n",
    "person = Person()\n",
    "person.name = \"hell\""
   ]
  },
  {
   "cell_type": "code",
   "execution_count": 40,
   "metadata": {},
   "outputs": [
    {
     "data": {
      "text/plain": [
       "'Getting Called'"
      ]
     },
     "execution_count": 40,
     "metadata": {},
     "output_type": "execute_result"
    }
   ],
   "source": [
    "person.name"
   ]
  },
  {
   "cell_type": "code",
   "execution_count": 41,
   "metadata": {},
   "outputs": [
    {
     "data": {
      "text/plain": [
       "'Person'"
      ]
     },
     "execution_count": 41,
     "metadata": {},
     "output_type": "execute_result"
    }
   ],
   "source": [
    "class Person:\n",
    "    def __init__(self, name):\n",
    "        self._name = name\n",
    "    \n",
    "    @property\n",
    "    def name(self):\n",
    "        return self._name\n",
    "    \n",
    "    @name.setter\n",
    "    def name(self, value):\n",
    "        self._name = value\n",
    "\n",
    "p = Person(\"Person\")\n",
    "p.name\n"
   ]
  },
  {
   "cell_type": "code",
   "execution_count": 42,
   "metadata": {},
   "outputs": [
    {
     "ename": "AttributeError",
     "evalue": "can't set attribute",
     "output_type": "error",
     "traceback": [
      "\u001b[0;31m---------------------------------------------------------------------------\u001b[0m",
      "\u001b[0;31mAttributeError\u001b[0m                            Traceback (most recent call last)",
      "Cell \u001b[0;32mIn[42], line 15\u001b[0m\n\u001b[1;32m     13\u001b[0m p \u001b[39m=\u001b[39m Person(\u001b[39m\"\u001b[39m\u001b[39mPerson\u001b[39m\u001b[39m\"\u001b[39m)\n\u001b[1;32m     14\u001b[0m p\u001b[39m.\u001b[39mname\n\u001b[0;32m---> 15\u001b[0m p\u001b[39m.\u001b[39;49mname \u001b[39m=\u001b[39m \u001b[39m\"\u001b[39m\u001b[39mhh\u001b[39m\u001b[39m\"\u001b[39m\n",
      "\u001b[0;31mAttributeError\u001b[0m: can't set attribute"
     ]
    }
   ],
   "source": [
    "class Person:\n",
    "    def __init__(self, name):\n",
    "        self._name = name\n",
    "    \n",
    "    @property\n",
    "    def name(self):\n",
    "        return self._name\n",
    "    \n",
    "    @name.setter\n",
    "    def name_set(self, value):\n",
    "        self._name = value\n",
    "\n",
    "p = Person(\"Person\")\n",
    "p.name\n",
    "p.name = \"hh\""
   ]
  },
  {
   "cell_type": "code",
   "execution_count": 44,
   "metadata": {},
   "outputs": [],
   "source": [
    "p.name_set = \"Added\""
   ]
  },
  {
   "cell_type": "code",
   "execution_count": null,
   "metadata": {},
   "outputs": [],
   "source": []
  }
 ],
 "metadata": {
  "kernelspec": {
   "display_name": "Python 3",
   "language": "python",
   "name": "python3"
  },
  "language_info": {
   "codemirror_mode": {
    "name": "ipython",
    "version": 3
   },
   "file_extension": ".py",
   "mimetype": "text/x-python",
   "name": "python",
   "nbconvert_exporter": "python",
   "pygments_lexer": "ipython3",
   "version": "3.8.16"
  },
  "orig_nbformat": 4
 },
 "nbformat": 4,
 "nbformat_minor": 2
}
